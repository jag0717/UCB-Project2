{
 "cells": [
  {
   "cell_type": "code",
   "execution_count": 1,
   "metadata": {
    "collapsed": true
   },
   "outputs": [],
   "source": [
    "import pandas as pd\n",
    "from sqlalchemy import create_engine\n",
    "from sqlalchemy import create_engine, inspect, func\n",
    "import add_pk_to_sqlite_table as pk\n",
    "import sqlite3"
   ]
  },
  {
   "cell_type": "code",
   "execution_count": 2,
   "metadata": {
    "collapsed": true
   },
   "outputs": [],
   "source": [
    "engine = create_engine('sqlite:///healthcare.db')"
   ]
  },
  {
   "cell_type": "code",
   "execution_count": 3,
   "metadata": {},
   "outputs": [],
   "source": [
    "df1 = pd.read_csv('cleanData/ALL_STATES_GDP.csv', index_col=0)\n",
    "df1.to_sql('ALL_STATES_GDP', engine, if_exists='replace')"
   ]
  },
  {
   "cell_type": "code",
   "execution_count": 4,
   "metadata": {
    "collapsed": true
   },
   "outputs": [],
   "source": [
    "df2 = pd.read_csv('cleanData/ALL_STATES_PER_CAPITA_GDP.csv', index_col=0)\n",
    "df2.to_sql('ALL_STATES_PER_CAPITA_GDP', engine, if_exists='replace')"
   ]
  },
  {
   "cell_type": "code",
   "execution_count": 5,
   "metadata": {
    "collapsed": true
   },
   "outputs": [],
   "source": [
    "df3 = pd.read_csv('cleanData/COUNTRIES_HEALTHCARE_SPENDING.csv', index_col=0)\n",
    "df3.to_sql('COUNTRIES_HEALTHCARE_SPENDING', engine, if_exists='replace')"
   ]
  },
  {
   "cell_type": "code",
   "execution_count": 6,
   "metadata": {
    "collapsed": true
   },
   "outputs": [],
   "source": [
    "df4 = pd.read_csv('cleanData/MEDICAID_PER_CAPITA.CSV', index_col=0)\n",
    "df4.to_sql('MEDICAID_PER_CAPITA', engine, if_exists='replace')"
   ]
  },
  {
   "cell_type": "code",
   "execution_count": 7,
   "metadata": {
    "collapsed": true
   },
   "outputs": [],
   "source": [
    "df5 = pd.read_csv('cleanData/MEDICAID_POPULATION.CSV', index_col=0)\n",
    "df5.to_sql('MEDICAID_POPULATION', engine, if_exists='replace')"
   ]
  },
  {
   "cell_type": "code",
   "execution_count": 8,
   "metadata": {
    "collapsed": true
   },
   "outputs": [],
   "source": [
    "df6 = pd.read_csv('cleanData/MEDICAID_TOTAL_SPENDING.CSV', index_col=0)\n",
    "df6.to_sql('MEDICAID_TOTAL_SPENDING', engine, if_exists='replace')"
   ]
  },
  {
   "cell_type": "code",
   "execution_count": 9,
   "metadata": {
    "collapsed": true
   },
   "outputs": [],
   "source": [
    "df7 = pd.read_csv('cleanData/MEDICARE_PER_CAPITA.CSV', index_col=0)\n",
    "df7.to_sql('MEDICARE_PER_CAPITA', engine, if_exists='replace')"
   ]
  },
  {
   "cell_type": "code",
   "execution_count": 10,
   "metadata": {
    "collapsed": true
   },
   "outputs": [],
   "source": [
    "df8 = pd.read_csv('cleanData/MEDICARE_POPULATION.CSV', index_col=0)\n",
    "df8.to_sql('MEDICARE_POPULATION', engine, if_exists='replace')"
   ]
  },
  {
   "cell_type": "code",
   "execution_count": 11,
   "metadata": {
    "collapsed": true
   },
   "outputs": [],
   "source": [
    "df9 = pd.read_csv('cleanData/MEDICARE_TOTAL_SPENDING.CSV', index_col=0)\n",
    "df9.to_sql('MEDICARE_TOTAL_SPENDING', engine, if_exists='replace')"
   ]
  },
  {
   "cell_type": "code",
   "execution_count": 12,
   "metadata": {
    "collapsed": true
   },
   "outputs": [],
   "source": [
    "df10 = pd.read_csv('cleanData/PHI_PER_CAPITA.CSV', index_col=0)\n",
    "df10.to_sql('PHI_PER_CAPITA', engine, if_exists='replace')"
   ]
  },
  {
   "cell_type": "code",
   "execution_count": 13,
   "metadata": {
    "collapsed": true
   },
   "outputs": [],
   "source": [
    "df11 = pd.read_csv('cleanData/PHI_POPULATION.CSV', index_col=0)\n",
    "df11.to_sql('PHI_POPULATION', engine, if_exists='replace')"
   ]
  },
  {
   "cell_type": "code",
   "execution_count": 14,
   "metadata": {
    "collapsed": true
   },
   "outputs": [],
   "source": [
    "df12 = pd.read_csv('cleanData/PHI_TOTAL_SPENDING.CSV', index_col=0)\n",
    "df12.to_sql('PHI_TOTAL_SPENDING', engine, if_exists='replace')"
   ]
  },
  {
   "cell_type": "code",
   "execution_count": 15,
   "metadata": {
    "collapsed": true
   },
   "outputs": [],
   "source": [
    "df13 = pd.read_csv('cleanData/US_PER_CAPITA.CSV', index_col=0)\n",
    "df13.to_sql('US_PER_CAPITA', engine, if_exists='replace')"
   ]
  },
  {
   "cell_type": "code",
   "execution_count": 16,
   "metadata": {
    "collapsed": true
   },
   "outputs": [],
   "source": [
    "df14 = pd.read_csv('cleanData/US_POPULATION.CSV', index_col=0)\n",
    "df14.to_sql('US_POPULATION', engine, if_exists='replace')"
   ]
  },
  {
   "cell_type": "code",
   "execution_count": 17,
   "metadata": {
    "collapsed": true
   },
   "outputs": [],
   "source": [
    "df15 = pd.read_csv('cleanData/US_TOTAL_SPENDING.CSV', index_col=0)\n",
    "df15.to_sql('US_TOTAL_SPENDING', engine, if_exists='replace')"
   ]
  },
  {
   "cell_type": "code",
   "execution_count": 18,
   "metadata": {},
   "outputs": [
    {
     "data": {
      "text/plain": [
       "['ALL_STATES_GDP',\n",
       " 'ALL_STATES_PER_CAPITA_GDP',\n",
       " 'COUNTRIES_HEALTHCARE_SPENDING',\n",
       " 'MEDICAID_PER_CAPITA',\n",
       " 'MEDICAID_POPULATION',\n",
       " 'MEDICAID_TOTAL_SPENDING',\n",
       " 'MEDICARE_PER_CAPITA',\n",
       " 'MEDICARE_POPULATION',\n",
       " 'MEDICARE_TOTAL_SPENDING',\n",
       " 'PHI_PER_CAPITA',\n",
       " 'PHI_POPULATION',\n",
       " 'PHI_TOTAL_SPENDING',\n",
       " 'US_PER_CAPITA',\n",
       " 'US_POPULATION',\n",
       " 'US_TOTAL_SPENDING']"
      ]
     },
     "execution_count": 18,
     "metadata": {},
     "output_type": "execute_result"
    }
   ],
   "source": [
    "inspector = inspect(engine)\n",
    "inspector.get_table_names()"
   ]
  },
  {
   "cell_type": "code",
   "execution_count": 19,
   "metadata": {},
   "outputs": [
    {
     "name": "stdout",
     "output_type": "stream",
     "text": [
      "Item TEXT\n",
      "State_Name TEXT\n",
      "2001 BIGINT\n",
      "2002 BIGINT\n",
      "2003 BIGINT\n",
      "2004 BIGINT\n",
      "2005 BIGINT\n",
      "2006 BIGINT\n",
      "2007 BIGINT\n",
      "2008 BIGINT\n",
      "2009 BIGINT\n",
      "2010 BIGINT\n",
      "2011 BIGINT\n",
      "2012 BIGINT\n",
      "2013 BIGINT\n",
      "2014 BIGINT\n",
      "Average_Annual_Percent_Growth FLOAT\n"
     ]
    }
   ],
   "source": [
    "# code to get the columns of a table\n",
    "columns = inspector.get_columns('US_PER_CAPITA')\n",
    "for c in columns:\n",
    "    print(c['name'], c[\"type\"])"
   ]
  },
  {
   "cell_type": "code",
   "execution_count": 20,
   "metadata": {},
   "outputs": [],
   "source": [
    "# engine.execute('SELECT * FROM US_PER_CAPITA LIMIT 10').fetchall()"
   ]
  },
  {
   "cell_type": "code",
   "execution_count": 21,
   "metadata": {},
   "outputs": [],
   "source": [
    "# engine.execute('SELECT * FROM ALL_STATES_GDP LIMIT 10').fetchall()"
   ]
  },
  {
   "cell_type": "code",
   "execution_count": 22,
   "metadata": {},
   "outputs": [],
   "source": [
    "con = sqlite3.connect(\"healthcare.db\")\n",
    "pk.add_pk_to_sqlite_table(\"ALL_STATES_GDP\", \"State_Name\",con)\n",
    "pk.add_pk_to_sqlite_table(\"ALL_STATES_PER_CAPITA_GDP\", \"State_Name\",con)\n",
    "pk.add_pk_to_sqlite_table(\"COUNTRIES_HEALTHCARE_SPENDING\", \"Country\",con)\n",
    "pk.add_pk_to_sqlite_table(\"MEDICAID_PER_CAPITA\", \"State_Name\",con)\n",
    "pk.add_pk_to_sqlite_table(\"MEDICAID_POPULATION\", \"State_Name\",con)\n",
    "pk.add_pk_to_sqlite_table(\"MEDICAID_TOTAL_SPENDING\", \"State_Name\",con)\n",
    "pk.add_pk_to_sqlite_table(\"MEDICARE_PER_CAPITA\", \"State_Name\",con)\n",
    "pk.add_pk_to_sqlite_table(\"MEDICARE_POPULATION\", \"State_Name\",con)\n",
    "pk.add_pk_to_sqlite_table(\"MEDICARE_TOTAL_SPENDING\", \"State_Name\",con)\n",
    "pk.add_pk_to_sqlite_table(\"PHI_PER_CAPITA\", \"State_Name\",con)\n",
    "pk.add_pk_to_sqlite_table(\"PHI_POPULATION\", \"State_Name\",con)\n",
    "pk.add_pk_to_sqlite_table(\"PHI_TOTAL_SPENDING\", \"State_Name\",con)\n",
    "pk.add_pk_to_sqlite_table(\"US_PER_CAPITA\", \"State_Name\",con)\n",
    "pk.add_pk_to_sqlite_table(\"US_POPULATION\", \"State_Name\",con)\n",
    "pk.add_pk_to_sqlite_table(\"US_TOTAL_SPENDING\", \"State_Name\",con)"
   ]
  },
  {
   "cell_type": "code",
   "execution_count": 23,
   "metadata": {},
   "outputs": [
    {
     "name": "stdout",
     "output_type": "stream",
     "text": [
      "Item TEXT\n",
      "State_Name TEXT\n",
      "2001 BIGINT\n",
      "2002 BIGINT\n",
      "2003 BIGINT\n",
      "2004 BIGINT\n",
      "2005 BIGINT\n",
      "2006 BIGINT\n",
      "2007 BIGINT\n",
      "2008 BIGINT\n",
      "2009 BIGINT\n",
      "2010 BIGINT\n",
      "2011 BIGINT\n",
      "2012 BIGINT\n",
      "2013 BIGINT\n",
      "2014 BIGINT\n",
      "Average_Annual_Percent_Growth FLOAT\n"
     ]
    }
   ],
   "source": [
    "# code to get the columns of a table\n",
    "columns = inspector.get_columns('US_PER_CAPITA')\n",
    "for c in columns:\n",
    "    print(c['name'], c[\"type\"])"
   ]
  }
 ],
 "metadata": {
  "kernelspec": {
   "display_name": "Python 3",
   "language": "python",
   "name": "python3"
  },
  "language_info": {
   "codemirror_mode": {
    "name": "ipython",
    "version": 3
   },
   "file_extension": ".py",
   "mimetype": "text/x-python",
   "name": "python",
   "nbconvert_exporter": "python",
   "pygments_lexer": "ipython3",
   "version": "3.6.3"
  }
 },
 "nbformat": 4,
 "nbformat_minor": 2
}
