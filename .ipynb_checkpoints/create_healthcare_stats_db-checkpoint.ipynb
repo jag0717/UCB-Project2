{
 "cells": [
  {
   "cell_type": "code",
   "execution_count": 1,
   "metadata": {
    "collapsed": true
   },
   "outputs": [],
   "source": [
    "import pandas as pd\n",
    "from sqlalchemy import create_engine\n",
    "from sqlalchemy import create_engine, inspect, func"
   ]
  },
  {
   "cell_type": "code",
   "execution_count": 2,
   "metadata": {
    "collapsed": true
   },
   "outputs": [],
   "source": [
    "engine = create_engine('sqlite:///healthcare.db')"
   ]
  },
  {
   "cell_type": "code",
   "execution_count": 3,
   "metadata": {
    "collapsed": true
   },
   "outputs": [],
   "source": [
    "df1 = pd.read_csv('cleanData/ALL_STATES_GDP.csv', index_col=0)\n",
    "df1.to_sql('ALL_STATES_GDP', engine)"
   ]
  },
  {
   "cell_type": "code",
   "execution_count": 4,
   "metadata": {},
   "outputs": [],
   "source": [
    "df2 = pd.read_csv('cleanData/ALL_STATES_PER_CAPITA_GDP.csv', index_col=0)\n",
    "df2.to_sql('ALL_STATES_PER_CAPITA_GDP', engine)"
   ]
  },
  {
   "cell_type": "code",
   "execution_count": 5,
   "metadata": {
    "collapsed": true
   },
   "outputs": [],
   "source": [
    "df3 = pd.read_csv('cleanData/COUNTRIES_HEALTHCARE_SPENDING.csv', index_col=0)\n",
    "df3.to_sql('COUNTRIES_HEALTHCARE_SPENDING', engine)"
   ]
  },
  {
   "cell_type": "code",
   "execution_count": 6,
   "metadata": {
    "collapsed": true
   },
   "outputs": [],
   "source": [
    "df4 = pd.read_csv('cleanData/MEDICAID_PER_CAPITA.CSV', index_col=0)\n",
    "df4.to_sql('MEDICAID_PER_CAPITA', engine)"
   ]
  },
  {
   "cell_type": "code",
   "execution_count": 7,
   "metadata": {
    "collapsed": true
   },
   "outputs": [],
   "source": [
    "df5 = pd.read_csv('cleanData/MEDICAID_POPULATION.CSV', index_col=0)\n",
    "df5.to_sql('MEDICAID_POPULATION', engine)"
   ]
  },
  {
   "cell_type": "code",
   "execution_count": 8,
   "metadata": {
    "collapsed": true
   },
   "outputs": [],
   "source": [
    "df6 = pd.read_csv('cleanData/MEDICAID_TOTAL_SPENDING.CSV', index_col=0)\n",
    "df6.to_sql('MEDICAID_TOTAL_SPENDING', engine)"
   ]
  },
  {
   "cell_type": "code",
   "execution_count": 9,
   "metadata": {
    "collapsed": true
   },
   "outputs": [],
   "source": [
    "df7 = pd.read_csv('cleanData/MEDICARE_PER_CAPITA.CSV', index_col=0)\n",
    "df7.to_sql('MEDICARE_PER_CAPITA', engine)"
   ]
  },
  {
   "cell_type": "code",
   "execution_count": 10,
   "metadata": {
    "collapsed": true
   },
   "outputs": [],
   "source": [
    "df8 = pd.read_csv('cleanData/MEDICARE_POPULATION.CSV', index_col=0)\n",
    "df8.to_sql('MEDICARE_POPULATION', engine)"
   ]
  },
  {
   "cell_type": "code",
   "execution_count": 11,
   "metadata": {},
   "outputs": [],
   "source": [
    "df9 = pd.read_csv('cleanData/MEDICARE_TOTAL_SPENDING.CSV', index_col=0)\n",
    "df9.to_sql('MEDICARE_TOTAL_SPENDING', engine)"
   ]
  },
  {
   "cell_type": "code",
   "execution_count": 12,
   "metadata": {
    "collapsed": true
   },
   "outputs": [],
   "source": [
    "df10 = pd.read_csv('cleanData/PHI_PER_CAPITA.CSV', index_col=0)\n",
    "df10.to_sql('PHI_PER_CAPITA', engine)"
   ]
  },
  {
   "cell_type": "code",
   "execution_count": 13,
   "metadata": {
    "collapsed": true
   },
   "outputs": [],
   "source": [
    "df11 = pd.read_csv('cleanData/PHI_POPULATION.CSV', index_col=0)\n",
    "df11.to_sql('PHI_POPULATION', engine)"
   ]
  },
  {
   "cell_type": "code",
   "execution_count": 14,
   "metadata": {
    "collapsed": true
   },
   "outputs": [],
   "source": [
    "df12 = pd.read_csv('cleanData/PHI_TOTAL_SPENDING.CSV', index_col=0)\n",
    "df12.to_sql('PHI_TOTAL_SPENDING', engine)"
   ]
  },
  {
   "cell_type": "code",
   "execution_count": 15,
   "metadata": {
    "collapsed": true
   },
   "outputs": [],
   "source": [
    "df13 = pd.read_csv('cleanData/US_PER_CAPITA.CSV', index_col=0)\n",
    "df13.to_sql('US_PER_CAPITA', engine)"
   ]
  },
  {
   "cell_type": "code",
   "execution_count": 16,
   "metadata": {
    "collapsed": true
   },
   "outputs": [],
   "source": [
    "df14 = pd.read_csv('cleanData/US_POPULATION.CSV', index_col=0)\n",
    "df14.to_sql('US_POPULATION', engine)"
   ]
  },
  {
   "cell_type": "code",
   "execution_count": 17,
   "metadata": {
    "collapsed": true
   },
   "outputs": [],
   "source": [
    "df15 = pd.read_csv('cleanData/US_TOTAL_SPENDING.CSV', index_col=0)\n",
    "df15.to_sql('US_TOTAL_SPENDING', engine)"
   ]
  },
  {
   "cell_type": "code",
   "execution_count": 18,
   "metadata": {},
   "outputs": [
    {
     "data": {
      "text/plain": [
       "['ALL_STATES_GDP',\n",
       " 'ALL_STATES_PER_CAPITA_GDP',\n",
       " 'COUNTRIES_HEALTHCARE_SPENDING',\n",
       " 'MEDICAID_PER_CAPITA',\n",
       " 'MEDICAID_POPULATION',\n",
       " 'MEDICAID_TOTAL_SPENDING',\n",
       " 'MEDICARE_PER_CAPITA',\n",
       " 'MEDICARE_POPULATION',\n",
       " 'MEDICARE_TOTAL_SPENDING',\n",
       " 'PHI_PER_CAPITA',\n",
       " 'PHI_POPULATION',\n",
       " 'PHI_TOTAL_SPENDING',\n",
       " 'US_PER_CAPITA',\n",
       " 'US_POPULATION',\n",
       " 'US_TOTAL_SPENDING']"
      ]
     },
     "execution_count": 18,
     "metadata": {},
     "output_type": "execute_result"
    }
   ],
   "source": [
    "inspector = inspect(engine)\n",
    "inspector.get_table_names()"
   ]
  },
  {
   "cell_type": "code",
   "execution_count": 19,
   "metadata": {},
   "outputs": [
    {
     "name": "stdout",
     "output_type": "stream",
     "text": [
      "Item TEXT\n",
      "State_Name TEXT\n",
      "2001 BIGINT\n",
      "2002 BIGINT\n",
      "2003 BIGINT\n",
      "2004 BIGINT\n",
      "2005 BIGINT\n",
      "2006 BIGINT\n",
      "2007 BIGINT\n",
      "2008 BIGINT\n",
      "2009 BIGINT\n",
      "2010 BIGINT\n",
      "2011 BIGINT\n",
      "2012 BIGINT\n",
      "2013 BIGINT\n",
      "2014 BIGINT\n",
      "Average_Annual_Percent_Growth FLOAT\n"
     ]
    }
   ],
   "source": [
    "columns = inspector.get_columns('US_PER_CAPITA')\n",
    "for c in columns:\n",
    "    print(c['name'], c[\"type\"])"
   ]
  },
  {
   "cell_type": "code",
   "execution_count": 20,
   "metadata": {},
   "outputs": [
    {
     "data": {
      "text/plain": [
       "[('Personal Health Care ($)', 'Alabama', 4168, 4511, 4994, 5252, 5545, 5755, 5928, 6097, 6325, 6421, 6541, 6821, 6996, 7281, 4.7),\n",
       " ('Personal Health Care ($)', 'Alaska', 5169, 5669, 6099, 6455, 7145, 7476, 7975, 8447, 8745, 9129, 9586, 10130, 10428, 11064, 6.6),\n",
       " ('Personal Health Care ($)', 'Arizona', 3438, 3779, 4077, 4387, 4828, 5103, 5410, 5660, 5874, 6027, 6076, 6183, 6262, 6452, 4.3),\n",
       " ('Personal Health Care ($)', 'Arkansas', 4030, 4360, 4616, 4899, 5254, 5469, 5766, 6000, 6238, 6412, 6585, 6804, 6929, 7408, 5.1),\n",
       " ('Personal Health Care ($)', 'California', 3838, 4126, 4489, 4781, 5107, 5397, 5776, 6038, 6210, 6480, 6737, 7018, 7256, 7549, 4.6),\n",
       " ('Personal Health Care ($)', 'Colorado', 3992, 4259, 4569, 4831, 4937, 5264, 5522, 5685, 5882, 5979, 6129, 6306, 6472, 6804, 4.5),\n",
       " ('Personal Health Care ($)', 'Connecticut', 5560, 5944, 6226, 6739, 6997, 7391, 7793, 8219, 8740, 8863, 8950, 9300, 9517, 9859, 4.9),\n",
       " ('Personal Health Care ($)', 'Delaware', 5091, 5535, 6164, 6618, 6980, 7315, 7726, 8136, 8405, 8822, 9213, 9433, 9766, 10254, 5.7),\n",
       " ('Personal Health Care ($)', 'District of Columbia', 6663, 7185, 7661, 8394, 8764, 9003, 9562, 9959, 10439, 10876, 11281, 11223, 11466, 11944, 4.2),\n",
       " ('Personal Health Care ($)', 'Florida', 4745, 5027, 5336, 5690, 5957, 6284, 6585, 6854, 7134, 7301, 7408, 7635, 7688, 8076, 4.5)]"
      ]
     },
     "execution_count": 20,
     "metadata": {},
     "output_type": "execute_result"
    }
   ],
   "source": [
    "engine.execute('SELECT * FROM US_PER_CAPITA LIMIT 10').fetchall()"
   ]
  },
  {
   "cell_type": "code",
   "execution_count": 21,
   "metadata": {},
   "outputs": [
    {
     "data": {
      "text/plain": [
       "[('United States', 'Gross domestic product (GDP) by state (millions of current dollars)', 10556006, 10910833, 11440109, 12200160, 13015161, 13773226, 14391149, 14626598, 14320114, 14859772, 15406002, 16041243, 16576738, 17312381),\n",
       " ('Alabama', 'Gross domestic product (GDP) by state (millions of current dollars)', 122822, 127873, 134388, 146989, 156750, 164468, 169923, 172646, 168315, 174710, 180665, 185878, 190319, 193995),\n",
       " ('Alaska', 'Gross domestic product (GDP) by state (millions of current dollars)', 28553, 29763, 32039, 35195, 40063, 44679, 49197, 55461, 50463, 54134, 58759, 60890, 59808, 58196),\n",
       " ('Arizona', 'Gross domestic product (GDP) by state (millions of current dollars)', 172288, 179605, 192685, 204136, 227358, 248459, 262045, 256718, 242509, 245668, 254192, 264693, 270469, 281031),\n",
       " ('Arkansas', 'Gross domestic product (GDP) by state (millions of current dollars)', 70849, 74097, 78774, 85261, 90319, 94839, 97384, 99838, 98020, 102951, 107287, 109226, 114456, 118068),\n",
       " ('California', 'Gross domestic product (GDP) by state (millions of current dollars)', 1376163, 1431267, 1523473, 1645084, 1766693, 1879520, 1956523, 1983926, 1912115, 1965886, 2036297, 2131199, 2223892, 2358811),\n",
       " ('Colorado', 'Gross domestic product (GDP) by state (millions of current dollars)', 188108, 193068, 198811, 204242, 220454, 231920, 245949, 254784, 247270, 253374, 262719, 272799, 286835, 305633),\n",
       " ('Connecticut', 'Gross domestic product (GDP) by state (millions of current dollars)', 175290, 178017, 183533, 200407, 210170, 221420, 236640, 238211, 233562, 234528, 234233, 239462, 240975, 244628),\n",
       " ('Delaware', 'Gross domestic product (GDP) by state (millions of current dollars)', 47762, 46985, 48949, 52376, 53247, 56001, 56968, 55293, 57350, 57471, 59937, 60628, 61109, 66115),\n",
       " ('District of Columbia', 'Gross domestic product (GDP) by state (millions of current dollars)', 64888, 69060, 72780, 79040, 83586, 87496, 92846, 97372, 98415, 103831, 107738, 109685, 111890, 116358)]"
      ]
     },
     "execution_count": 21,
     "metadata": {},
     "output_type": "execute_result"
    }
   ],
   "source": [
    "engine.execute('SELECT * FROM ALL_STATES_GDP LIMIT 10').fetchall()"
   ]
  }
 ],
 "metadata": {
  "kernelspec": {
   "display_name": "Python 3",
   "language": "python",
   "name": "python3"
  },
  "language_info": {
   "codemirror_mode": {
    "name": "ipython",
    "version": 3
   },
   "file_extension": ".py",
   "mimetype": "text/x-python",
   "name": "python",
   "nbconvert_exporter": "python",
   "pygments_lexer": "ipython3",
   "version": "3.6.3"
  }
 },
 "nbformat": 4,
 "nbformat_minor": 2
}
